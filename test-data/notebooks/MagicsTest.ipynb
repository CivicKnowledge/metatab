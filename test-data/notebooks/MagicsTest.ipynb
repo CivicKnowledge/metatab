{
 "cells": [
  {
   "cell_type": "markdown",
   "metadata": {},
   "source": [
    "# This is the Title of the Notebook"
   ]
  },
  {
   "cell_type": "markdown",
   "metadata": {},
   "source": [
    "And this is the description"
   ]
  },
  {
   "cell_type": "code",
   "execution_count": 1,
   "metadata": {
    "collapsed": true
   },
   "outputs": [],
   "source": [
    "\n",
    "from metatab.jupyter.script import get_ipython\n",
    "\n",
    "%load_ext metatab\n",
    "%matplotlib inline\n",
    "import pandas as pd\n",
    "from os.path import exists\n",
    "from os import remove"
   ]
  },
  {
   "cell_type": "code",
   "execution_count": 2,
   "metadata": {
    "collapsed": true
   },
   "outputs": [],
   "source": [
    "%%metatab -p . \n",
    "Origin: example.com\n",
    "Dataset: foobar.com \n",
    "Identifier: de097279-28ef-42f5-a4f5-0eaac53b7dc4\n",
    "Name: example.com-foobar.com"
   ]
  },
  {
   "cell_type": "code",
   "execution_count": 3,
   "metadata": {
    "collapsed": true
   },
   "outputs": [],
   "source": [
    "assert _notebook_dir.endswith('metatab-py/test-data/notebooks'), _notebook_dir\n",
    "assert _package_dir.endswith('metatab-py/test-data/notebooks'), _package_dir"
   ]
  },
  {
   "cell_type": "code",
   "execution_count": 4,
   "metadata": {},
   "outputs": [
    {
     "data": {
      "text/plain": [
       "'/Volumes/Storage/proj/virt/metatab36/metatab-py/test-data/notebooks'"
      ]
     },
     "execution_count": 4,
     "metadata": {},
     "output_type": "execute_result"
    }
   ],
   "source": [
    "_notebook_dir"
   ]
  },
  {
   "cell_type": "code",
   "execution_count": 5,
   "metadata": {
    "collapsed": true
   },
   "outputs": [],
   "source": [
    "%%metatab -p /tmp/foo\n",
    "Origin: example.com\n",
    "Dataset: foobar.com \n",
    "Identifier: de097279-28ef-42f5-a4f5-0eaac53b7dc4\n",
    "Name: example.com-foobar.com"
   ]
  },
  {
   "cell_type": "code",
   "execution_count": 6,
   "metadata": {
    "collapsed": true
   },
   "outputs": [],
   "source": [
    "assert _notebook_dir.endswith('metatab-py/test-data/notebooks')\n",
    "assert _package_dir.endswith('/tmp/foo')"
   ]
  },
  {
   "cell_type": "code",
   "execution_count": 7,
   "metadata": {
    "collapsed": true
   },
   "outputs": [],
   "source": [
    "%%metatab\n",
    "Origin: example.com\n",
    "Dataset: foobar.com \n",
    "Identifier: de097279-28ef-42f5-a4f5-0eaac53b7dc4\n",
    "Name: example.com-foobar.com \n",
    "\n",
    "Section: Contacts\n",
    "Wrangler: Eric Busboom\n",
    "Wrangler.Email: eric@civicknowledge.com\n",
    "\n",
    "Section: References\n",
    "Reference: http://public.source.civicknowledge.com/example.com/sources/renter_cost.csv\n",
    "Reference.Name: reference\n",
    "Reference.Title: The First Example Data File\n",
    "Reference.Startline: 5\n",
    "Reference.HeaderLines: 3,4\n",
    "    \n",
    "Section: Resources\n",
    "Datafile: http://public.source.civicknowledge.com/example.com/sources/renter_cost.csv\n",
    "Datafile.Name: ext_resource\n",
    "Datafile.Title: An Extern CSV Resource\n",
    "Datafile.Startline: 5\n",
    "Datafile.HeaderLines: 3,4"
   ]
  },
  {
   "cell_type": "code",
   "execution_count": 8,
   "metadata": {
    "collapsed": true
   },
   "outputs": [],
   "source": [
    "assert _notebook_dir.endswith('metatab-py/test-data/notebooks')\n",
    "assert _package_dir.endswith('metatab-py/test-data/notebooks/example.com-foobar.com')"
   ]
  },
  {
   "cell_type": "code",
   "execution_count": 9,
   "metadata": {
    "collapsed": true
   },
   "outputs": [],
   "source": [
    "from metatab.pands import MetatabDataFrame\n",
    "\n",
    "odf = MetatabDataFrame({ 'cola':range(10), 'colb': range(10)})\n",
    "\n",
    "odf.name = 'income_homeval'\n",
    "odf.title = 'Income and Home Value Records for San Diego County'\n",
    "odf.cola.description = 'Household income'\n",
    "odf.colb.description = 'Home value'\n",
    "\n",
    "%mt_add_dataframe odf  --materialize\n",
    "\n",
    "cols = list(mt_pkg.resource('income_homeval').columns())\n",
    "assert 'cola' in [ c['name'] for c in cols]\n",
    "assert 'colb' in [ c['name'] for c in cols]"
   ]
  },
  {
   "cell_type": "code",
   "execution_count": 10,
   "metadata": {},
   "outputs": [
    {
     "name": "stdout",
     "output_type": "stream",
     "text": [
      "This is a Bash cell\n"
     ]
    }
   ],
   "source": [
    "%%bash\n",
    "echo \"This is a Bash cell\"\n",
    "touch /tmp/footouched\n"
   ]
  },
  {
   "cell_type": "code",
   "execution_count": 11,
   "metadata": {
    "collapsed": true
   },
   "outputs": [],
   "source": [
    "assert exists('/tmp/footouched')\n",
    "remove('/tmp/footouched')\n",
    "assert not exists('/tmp/footouched')"
   ]
  },
  {
   "cell_type": "code",
   "execution_count": 12,
   "metadata": {},
   "outputs": [
    {
     "name": "stdout",
     "output_type": "stream",
     "text": [
      "ConversionTest.ipynb  SimpleMagicsTest.ipynb  example.com-foobar.com\r\n",
      "MagicsTest.ipynb      SimpleMagicsTest.py     metadata.csv\r\n",
      "MagicsTest.py\t      _packages\r\n"
     ]
    }
   ],
   "source": [
    "!ls"
   ]
  },
  {
   "cell_type": "code",
   "execution_count": 13,
   "metadata": {
    "collapsed": true
   },
   "outputs": [],
   "source": [
    " \n",
    "import matplotlib.pyplot as plt\n",
    "import numpy as np\n",
    "\n",
    "t = np.arange(0.0, 2.0, 0.01)\n",
    "s = 1 + np.sin(2*np.pi*t)\n",
    "plt.plot(t, s)\n",
    "\n",
    "plt.xlabel('time (s)')\n",
    "plt.ylabel('voltage (mV)')\n",
    "plt.title('About as simple as it gets, folks')\n",
    "plt.grid(True)\n",
    "plt.show()"
   ]
  },
  {
   "cell_type": "code",
   "execution_count": 14,
   "metadata": {},
   "outputs": [
    {
     "name": "stdout",
     "output_type": "stream",
     "text": [
      "/Volumes/Storage/proj/virt/metatab36/metatab-py/test-data/notebooks\r\n"
     ]
    }
   ],
   "source": [
    "!pwd"
   ]
  },
  {
   "cell_type": "code",
   "execution_count": null,
   "metadata": {
    "collapsed": true
   },
   "outputs": [],
   "source": []
  }
 ],
 "metadata": {
  "celltoolbar": "Tags",
  "kernelspec": {
   "display_name": "Python 3",
   "language": "python",
   "name": "python3"
  },
  "language_info": {
   "codemirror_mode": {
    "name": "ipython",
    "version": 3
   },
   "file_extension": ".py",
   "mimetype": "text/x-python",
   "name": "python",
   "nbconvert_exporter": "python",
   "pygments_lexer": "ipython3",
   "version": "3.6.1"
  },
  "varInspector": {
   "cols": {
    "lenName": 16,
    "lenType": 16,
    "lenVar": 40
   },
   "kernels_config": {
    "python": {
     "delete_cmd_postfix": "",
     "delete_cmd_prefix": "del ",
     "library": "var_list.py",
     "varRefreshCmd": "print(var_dic_list())"
    },
    "r": {
     "delete_cmd_postfix": ") ",
     "delete_cmd_prefix": "rm(",
     "library": "var_list.r",
     "varRefreshCmd": "cat(var_dic_list()) "
    }
   },
   "types_to_exclude": [
    "module",
    "function",
    "builtin_function_or_method",
    "instance",
    "_Feature"
   ],
   "window_display": false
  }
 },
 "nbformat": 4,
 "nbformat_minor": 2
}
