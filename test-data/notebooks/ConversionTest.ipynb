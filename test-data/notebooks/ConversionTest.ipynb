{
 "cells": [
  {
   "cell_type": "markdown",
   "metadata": {},
   "source": [
    "# Example Of Notebook Conversion\n",
    "\n",
    "Metatab has it's own Notebook conversion process, will will create a Metatab package with the notebook, it's Makrdown and HTML conversion, and the dataset it creates. FOr these conversions, input code cells are by default hidden and must be explicitly re-enabled by starting code cells with `%showinput`\n"
   ]
  },
  {
   "cell_type": "code",
   "execution_count": 1,
   "metadata": {
    "raw_mimetype": "text/x-metatab"
   },
   "outputs": [],
   "source": [
    "%load_ext metatab\n",
    "import pandas as pd"
   ]
  },
  {
   "cell_type": "markdown",
   "metadata": {},
   "source": [
    "The Notebook can include inline Metatab, in a line-oriented format. These cells are code cells and start with a `%%metatab` magic. "
   ]
  },
  {
   "cell_type": "code",
   "execution_count": 2,
   "metadata": {
    "collapsed": true
   },
   "outputs": [],
   "source": [
    "%%metatab \n",
    "Declare: metatab-latest\n",
    "Title: Registered Voters, By County\n",
    "Description: An Example Whatever. \n",
    "Identifier: 7108517a-7163-41a5-943d-961f9a086a3f\n",
    "Origin: example.com\n",
    "Dataset: foobar.com        \n",
    "\n",
    "Section: Contacts\n",
    "Wrangler: Eric Busboom\n",
    "Wrangler.Email: eric@civicknowledge.com\n",
    " \n",
    "Section: References\n",
    "Reference: http://public.source.civicknowledge.com/example.com/sources/renter_cost.csv\n",
    "Reference.Name: reference\n",
    "Reference.Title: The First Example Data File\n",
    "Reference.Startline: 5\n",
    "Reference.HeaderLines: 3,4\n",
    "\n",
    "Section: Resources\n",
    "Datafile: http://public.source.civicknowledge.com/example.com/sources/renter_cost.csv\n",
    "Datafile.Name: resource\n",
    "Datafile.Title: The First Example Data File\n",
    "Datafile.Startline: 5\n",
    "Datafile.HeaderLines: 3,4"
   ]
  },
  {
   "cell_type": "code",
   "execution_count": 3,
   "metadata": {},
   "outputs": [
    {
     "data": {
      "text/html": [
       "<h3><a name=\"resource-resource\"></a>resource</h3><p><a target=\"_blank\" href=\"http://public.source.civicknowledge.com/example.com/sources/renter_cost.csv\">http://public.source.civicknowledge.com/example.com/sources/renter_cost.csv</a></p><table>\n",
       "<tr><th>Header</th><th>Type</th><th>Description</th></tr><tr><td>col0</td><td>integer</td><td></td></tr> \n",
       "<tr><td>col1</td><td>text</td><td></td></tr> \n",
       "<tr><td>renter_cost_gt_30</td><td>integer</td><td></td></tr> \n",
       "<tr><td>renter_cost_gt_30_cv</td><td>number</td><td></td></tr> \n",
       "<tr><td>owner_cost_gt_30_pct</td><td>number</td><td></td></tr> \n",
       "<tr><td>owner_cost_gt_30_pct_cv</td><td>number</td><td></td></tr> </table>"
      ],
      "text/plain": [
       "<Term: <none> 20:1 root.datafile http://public.source.civicknowledge.com/example.com/sources/renter_cost.csv []>"
      ]
     },
     "execution_count": 3,
     "metadata": {},
     "output_type": "execute_result"
    }
   ],
   "source": [
    "metatab_doc.resource('resource')"
   ]
  },
  {
   "cell_type": "markdown",
   "metadata": {},
   "source": [
    "Below is a code input cell that will be shown, because it starts with a `%showinput` magic. "
   ]
  },
  {
   "cell_type": "code",
   "execution_count": 4,
   "metadata": {},
   "outputs": [
    {
     "data": {
      "text/html": [
       "<div>\n",
       "<style>\n",
       "    .dataframe thead tr:only-child th {\n",
       "        text-align: right;\n",
       "    }\n",
       "\n",
       "    .dataframe thead th {\n",
       "        text-align: left;\n",
       "    }\n",
       "\n",
       "    .dataframe tbody tr th {\n",
       "        vertical-align: top;\n",
       "    }\n",
       "</style>\n",
       "<table border=\"1\" class=\"dataframe\">\n",
       "  <thead>\n",
       "    <tr style=\"text-align: right;\">\n",
       "      <th></th>\n",
       "      <th>col1</th>\n",
       "      <th>col2</th>\n",
       "      <th>renter_cost_gt_30</th>\n",
       "      <th>renter_cost_gt_30_cv</th>\n",
       "      <th>owner_cost_gt_30_pct</th>\n",
       "      <th>owner_cost_gt_30_pct_cv</th>\n",
       "    </tr>\n",
       "  </thead>\n",
       "  <tbody>\n",
       "    <tr>\n",
       "      <th>0</th>\n",
       "      <td>0</td>\n",
       "      <td>1</td>\n",
       "      <td>1447</td>\n",
       "      <td>13.617607</td>\n",
       "      <td>42.248175</td>\n",
       "      <td>8.272141</td>\n",
       "    </tr>\n",
       "    <tr>\n",
       "      <th>1</th>\n",
       "      <td>1</td>\n",
       "      <td>2</td>\n",
       "      <td>5581</td>\n",
       "      <td>6.235932</td>\n",
       "      <td>49.280353</td>\n",
       "      <td>4.933369</td>\n",
       "    </tr>\n",
       "    <tr>\n",
       "      <th>2</th>\n",
       "      <td>2</td>\n",
       "      <td>3</td>\n",
       "      <td>525</td>\n",
       "      <td>17.648159</td>\n",
       "      <td>45.219638</td>\n",
       "      <td>13.288720</td>\n",
       "    </tr>\n",
       "    <tr>\n",
       "      <th>3</th>\n",
       "      <td>3</td>\n",
       "      <td>4</td>\n",
       "      <td>352</td>\n",
       "      <td>28.061965</td>\n",
       "      <td>47.439353</td>\n",
       "      <td>17.383329</td>\n",
       "    </tr>\n",
       "    <tr>\n",
       "      <th>4</th>\n",
       "      <td>4</td>\n",
       "      <td>5</td>\n",
       "      <td>1189</td>\n",
       "      <td>11.824215</td>\n",
       "      <td>43.157895</td>\n",
       "      <td>8.916487</td>\n",
       "    </tr>\n",
       "  </tbody>\n",
       "</table>\n",
       "</div>"
      ],
      "text/plain": [
       "   col1 col2  renter_cost_gt_30  renter_cost_gt_30_cv  owner_cost_gt_30_pct  \\\n",
       "0     0    1               1447             13.617607             42.248175   \n",
       "1     1    2               5581              6.235932             49.280353   \n",
       "2     2    3                525             17.648159             45.219638   \n",
       "3     3    4                352             28.061965             47.439353   \n",
       "4     4    5               1189             11.824215             43.157895   \n",
       "\n",
       "   owner_cost_gt_30_pct_cv  \n",
       "0                 8.272141  \n",
       "1                 4.933369  \n",
       "2                13.288720  \n",
       "3                17.383329  \n",
       "4                 8.916487  "
      ]
     },
     "execution_count": 4,
     "metadata": {},
     "output_type": "execute_result"
    }
   ],
   "source": [
    "%showinput\n",
    "df = metatab_doc.resource('resource').dataframe()\n",
    "df.head()"
   ]
  },
  {
   "cell_type": "code",
   "execution_count": 5,
   "metadata": {},
   "outputs": [
    {
     "data": {
      "text/html": [
       "<div>\n",
       "<style>\n",
       "    .dataframe thead tr:only-child th {\n",
       "        text-align: right;\n",
       "    }\n",
       "\n",
       "    .dataframe thead th {\n",
       "        text-align: left;\n",
       "    }\n",
       "\n",
       "    .dataframe tbody tr th {\n",
       "        vertical-align: top;\n",
       "    }\n",
       "</style>\n",
       "<table border=\"1\" class=\"dataframe\">\n",
       "  <thead>\n",
       "    <tr>\n",
       "      <th></th>\n",
       "      <th>Unnamed: 0_level_0</th>\n",
       "      <th>Unnamed: 1_level_0</th>\n",
       "      <th>renter</th>\n",
       "      <th>Unnamed: 3_level_0</th>\n",
       "      <th>owner</th>\n",
       "      <th>Unnamed: 5_level_0</th>\n",
       "    </tr>\n",
       "    <tr>\n",
       "      <th></th>\n",
       "      <th>id</th>\n",
       "      <th>gvid</th>\n",
       "      <th>cost_gt_30</th>\n",
       "      <th>cost_gt_30_cv</th>\n",
       "      <th>cost_gt_30_pct</th>\n",
       "      <th>cost_gt_30_pct_cv</th>\n",
       "    </tr>\n",
       "  </thead>\n",
       "  <tbody>\n",
       "    <tr>\n",
       "      <th>0</th>\n",
       "      <td>1</td>\n",
       "      <td>0O0P01</td>\n",
       "      <td>1447</td>\n",
       "      <td>13.617607</td>\n",
       "      <td>42.248175</td>\n",
       "      <td>8.272141</td>\n",
       "    </tr>\n",
       "    <tr>\n",
       "      <th>1</th>\n",
       "      <td>2</td>\n",
       "      <td>0O0P03</td>\n",
       "      <td>5581</td>\n",
       "      <td>6.235932</td>\n",
       "      <td>49.280353</td>\n",
       "      <td>4.933369</td>\n",
       "    </tr>\n",
       "    <tr>\n",
       "      <th>2</th>\n",
       "      <td>3</td>\n",
       "      <td>0O0P05</td>\n",
       "      <td>525</td>\n",
       "      <td>17.648159</td>\n",
       "      <td>45.219638</td>\n",
       "      <td>13.288720</td>\n",
       "    </tr>\n",
       "    <tr>\n",
       "      <th>3</th>\n",
       "      <td>4</td>\n",
       "      <td>0O0P07</td>\n",
       "      <td>352</td>\n",
       "      <td>28.061965</td>\n",
       "      <td>47.439353</td>\n",
       "      <td>17.383329</td>\n",
       "    </tr>\n",
       "    <tr>\n",
       "      <th>4</th>\n",
       "      <td>5</td>\n",
       "      <td>0O0P09</td>\n",
       "      <td>1189</td>\n",
       "      <td>11.824215</td>\n",
       "      <td>43.157895</td>\n",
       "      <td>8.916487</td>\n",
       "    </tr>\n",
       "  </tbody>\n",
       "</table>\n",
       "</div>"
      ],
      "text/plain": [
       "  Unnamed: 0_level_0 Unnamed: 1_level_0     renter Unnamed: 3_level_0  \\\n",
       "                  id               gvid cost_gt_30      cost_gt_30_cv   \n",
       "0                  1             0O0P01       1447          13.617607   \n",
       "1                  2             0O0P03       5581           6.235932   \n",
       "2                  3             0O0P05        525          17.648159   \n",
       "3                  4             0O0P07        352          28.061965   \n",
       "4                  5             0O0P09       1189          11.824215   \n",
       "\n",
       "           owner Unnamed: 5_level_0  \n",
       "  cost_gt_30_pct  cost_gt_30_pct_cv  \n",
       "0      42.248175           8.272141  \n",
       "1      49.280353           4.933369  \n",
       "2      45.219638          13.288720  \n",
       "3      47.439353          17.383329  \n",
       "4      43.157895           8.916487  "
      ]
     },
     "execution_count": 5,
     "metadata": {},
     "output_type": "execute_result"
    }
   ],
   "source": [
    "df = metatab_doc.reference('reference').read_dataframe()\n",
    "df.head()"
   ]
  },
  {
   "cell_type": "markdown",
   "metadata": {},
   "source": [
    "The HTML output will include any images, but unline the default HTML converted, the images are linked as seperate files. "
   ]
  },
  {
   "cell_type": "code",
   "execution_count": 6,
   "metadata": {},
   "outputs": [
    {
     "ename": "AttributeError",
     "evalue": "'DataFrame' object has no attribute 'owner_cost_gt_30_pct'",
     "output_type": "error",
     "traceback": [
      "\u001b[0;31m---------------------------------------------------------------------------\u001b[0m",
      "\u001b[0;31mAttributeError\u001b[0m                            Traceback (most recent call last)",
      "\u001b[0;32m<ipython-input-6-1b4cf9ce06d0>\u001b[0m in \u001b[0;36m<module>\u001b[0;34m()\u001b[0m\n\u001b[1;32m      1\u001b[0m \u001b[0mget_ipython\u001b[0m\u001b[0;34m(\u001b[0m\u001b[0;34m)\u001b[0m\u001b[0;34m.\u001b[0m\u001b[0mmagic\u001b[0m\u001b[0;34m(\u001b[0m\u001b[0;34m'matplotlib inline'\u001b[0m\u001b[0;34m)\u001b[0m\u001b[0;34m\u001b[0m\u001b[0m\n\u001b[0;32m----> 2\u001b[0;31m \u001b[0mdf\u001b[0m\u001b[0;34m.\u001b[0m\u001b[0mowner_cost_gt_30_pct\u001b[0m\u001b[0;34m.\u001b[0m\u001b[0mhist\u001b[0m\u001b[0;34m(\u001b[0m\u001b[0mbins\u001b[0m\u001b[0;34m=\u001b[0m\u001b[0;36m50\u001b[0m\u001b[0;34m)\u001b[0m\u001b[0;34m;\u001b[0m\u001b[0;34m\u001b[0m\u001b[0m\n\u001b[0m",
      "\u001b[0;32m/Volumes/Storage/proj/virt/metatab36/lib/python3.6/site-packages/pandas/core/generic.py\u001b[0m in \u001b[0;36m__getattr__\u001b[0;34m(self, name)\u001b[0m\n\u001b[1;32m   2968\u001b[0m             \u001b[0;32mif\u001b[0m \u001b[0mname\u001b[0m \u001b[0;32min\u001b[0m \u001b[0mself\u001b[0m\u001b[0;34m.\u001b[0m\u001b[0m_info_axis\u001b[0m\u001b[0;34m:\u001b[0m\u001b[0;34m\u001b[0m\u001b[0m\n\u001b[1;32m   2969\u001b[0m                 \u001b[0;32mreturn\u001b[0m \u001b[0mself\u001b[0m\u001b[0;34m[\u001b[0m\u001b[0mname\u001b[0m\u001b[0;34m]\u001b[0m\u001b[0;34m\u001b[0m\u001b[0m\n\u001b[0;32m-> 2970\u001b[0;31m             \u001b[0;32mreturn\u001b[0m \u001b[0mobject\u001b[0m\u001b[0;34m.\u001b[0m\u001b[0m__getattribute__\u001b[0m\u001b[0;34m(\u001b[0m\u001b[0mself\u001b[0m\u001b[0;34m,\u001b[0m \u001b[0mname\u001b[0m\u001b[0;34m)\u001b[0m\u001b[0;34m\u001b[0m\u001b[0m\n\u001b[0m\u001b[1;32m   2971\u001b[0m \u001b[0;34m\u001b[0m\u001b[0m\n\u001b[1;32m   2972\u001b[0m     \u001b[0;32mdef\u001b[0m \u001b[0m__setattr__\u001b[0m\u001b[0;34m(\u001b[0m\u001b[0mself\u001b[0m\u001b[0;34m,\u001b[0m \u001b[0mname\u001b[0m\u001b[0;34m,\u001b[0m \u001b[0mvalue\u001b[0m\u001b[0;34m)\u001b[0m\u001b[0;34m:\u001b[0m\u001b[0;34m\u001b[0m\u001b[0m\n",
      "\u001b[0;31mAttributeError\u001b[0m: 'DataFrame' object has no attribute 'owner_cost_gt_30_pct'"
     ]
    }
   ],
   "source": [
    "%matplotlib inline\n",
    "df.owner_cost_gt_30_pct.hist(bins=50);"
   ]
  },
  {
   "cell_type": "code",
   "execution_count": null,
   "metadata": {
    "collapsed": true
   },
   "outputs": [],
   "source": [
    "metatab_doc.write_csv()"
   ]
  },
  {
   "cell_type": "code",
   "execution_count": null,
   "metadata": {
    "collapsed": true
   },
   "outputs": [],
   "source": []
  }
 ],
 "metadata": {
  "kernelspec": {
   "display_name": "Python 3",
   "language": "python",
   "name": "python3"
  },
  "language_info": {
   "codemirror_mode": {
    "name": "ipython",
    "version": 3
   },
   "file_extension": ".py",
   "mimetype": "text/x-python",
   "name": "python",
   "nbconvert_exporter": "python",
   "pygments_lexer": "ipython3",
   "version": "3.6.1"
  }
 },
 "nbformat": 4,
 "nbformat_minor": 2
}
