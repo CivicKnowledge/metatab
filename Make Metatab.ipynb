{
 "cells": [
  {
   "cell_type": "code",
   "execution_count": null,
   "metadata": {},
   "outputs": [],
   "source": [
    "from ambry import get_library\n",
    "import pandas as pd\n",
    "l = get_library()\n",
    "\n",
    "geofile_schema_p = l.partition('census.gov-acs_geofile-schemas-2009e-geofile_schema-2014')\n",
    "col_meta_p = l.partition('census.gov-acs_geofile-schemas-2009e-column_meta-2014-5')\n",
    "table_meta_p = l.partition('census.gov-acs_geofile-schemas-2009e-table_meta-2014-5')\n",
    "seq_p = l.partition('census.gov-acs_geofile-schemas-2009e-table_sequence-2014-5')\n",
    "shell_p = l.partition('census.gov-acs_geofile-schemas-2009e-table_shells-2014-5')"
   ]
  },
  {
   "cell_type": "code",
   "execution_count": null,
   "metadata": {},
   "outputs": [],
   "source": [
    "shell_p.table"
   ]
  },
  {
   "cell_type": "code",
   "execution_count": null,
   "metadata": {},
   "outputs": [],
   "source": [
    "shell_p.analysis.dataframe().head()"
   ]
  },
  {
   "cell_type": "code",
   "execution_count": null,
   "metadata": {},
   "outputs": [],
   "source": [
    "table_meta_p.table"
   ]
  },
  {
   "cell_type": "code",
   "execution_count": null,
   "metadata": {},
   "outputs": [],
   "source": [
    "table_meta_p.analysis.dataframe().head()"
   ]
  },
  {
   "cell_type": "code",
   "execution_count": null,
   "metadata": {},
   "outputs": [],
   "source": [
    "col_meta_p.table"
   ]
  },
  {
   "cell_type": "code",
   "execution_count": null,
   "metadata": {},
   "outputs": [],
   "source": [
    "col_meta_p.analysis.dataframe().head()"
   ]
  },
  {
   "cell_type": "code",
   "execution_count": null,
   "metadata": {},
   "outputs": [],
   "source": [
    "from collections import defaultdict\n",
    "from itertools import islice\n",
    "header = 'Section Schema Datatype Title Indent Subject Universe Topics Denominator Parent'.split()\n",
    "rows = []\n",
    "tables = []\n",
    "\n",
    "\n",
    "def mk_table_row(row):\n",
    "    return {\n",
    "        'Section': 'Table',\n",
    "        'Schema': row['table_id'],\n",
    "        'Title': row['table_title'],\n",
    "        'Subject': row['subject_area'],\n",
    "        'Universe': row['universe'],\n",
    "        'Topics': row['topics'],\n",
    "        'Denominator': row['denominator_column_id']\n",
    "    }\n",
    "\n",
    "for t in table_meta_p:\n",
    "    tables.append(mk_table_row(t.dict))\n",
    "\n",
    "print tables[0]"
   ]
  },
  {
   "cell_type": "code",
   "execution_count": null,
   "metadata": {},
   "outputs": [],
   "source": [
    "from collections import defaultdict\n",
    "columns = defaultdict(list)\n",
    "\n",
    "def mk_column_row(row):\n",
    "\n",
    "    return {\n",
    "        'Section': 'Column',\n",
    "        'Schema': row['column_id'],\n",
    "        'Title': row['column_title'],\n",
    "        'Indent': row['indent'],\n",
    "        'Parent': row['parent_column_id']\n",
    "    }\n",
    "    \n",
    "for c in col_meta_p:\n",
    "    columns[c.table_id].append(mk_column_row(c.dict))"
   ]
  },
  {
   "cell_type": "code",
   "execution_count": null,
   "metadata": {},
   "outputs": [],
   "source": [
    "from unicodecsv import DictWriter\n",
    "header = 'Section Schema Datatype Title Indent Subject Universe Topics Denominator Parent'.split()\n",
    "\n",
    "with open('/tmp/foo.csv', 'w') as f:\n",
    "    w = DictWriter(f, header)\n",
    "    w.writeheader()\n",
    "\n",
    "    for t in tables:\n",
    "        w.writerow(t)\n",
    "        for c in columns[t['Schema']]:\n",
    "            w.writerow(c)"
   ]
  },
  {
   "cell_type": "code",
   "execution_count": 65,
   "metadata": {},
   "outputs": [],
   "source": [
    "import unicodecsv as csv\n",
    "\n",
    "b = l.bundle('census.gov-acs-p5ye2014')\n",
    "large_url_template = b.source('large_area_url').ref\n",
    "small_url_template = b.source('small_area_url').ref\n",
    "url_root = b.source('base_url').ref\n",
    "\n",
    "def states():\n",
    "    \"\"\"Return tuples of states, which can be used to make maps and lists\"\"\"\n",
    "\n",
    "    states = set()\n",
    "    with b.dep('states').reader as r:\n",
    "        for row in r.select( lambda r: r['component'] == '00'):\n",
    "            if row['stusab'].upper() == 'DC':\n",
    "                states.add((row['stusab'], row['state'], 'DistrictOfColumbia')) # Orig lowercases 'Of'\n",
    "            else:\n",
    "                states.add((row['stusab'], row['state'], row['name'] ))\n",
    "    return list(states)\n",
    "\n",
    "with open('/tmp/data.csv','w') as f:\n",
    "    w = csv.writer(f)\n",
    "\n",
    "    for stusab, state_id, state_name in states():\n",
    "\n",
    "        for grain, tmpl in (('l',large_url_template), ('s',small_url_template)):\n",
    "            url = tmpl.format(root=url_root, state_name=state_name).replace(' ', '')\n",
    "\n",
    "            w.writerow(['Datafile',url, stusab, grain])"
   ]
  },
  {
   "cell_type": "code",
   "execution_count": null,
   "metadata": {},
   "outputs": [],
   "source": [
    ""
   ]
  }
 ],
 "metadata": {
  "kernelspec": {
   "display_name": "Python 2",
   "language": "python",
   "name": "python2"
  },
  "language_info": {
   "codemirror_mode": {
    "name": "ipython",
    "version": 2.0
   },
   "file_extension": ".py",
   "mimetype": "text/x-python",
   "name": "python",
   "nbconvert_exporter": "python",
   "pygments_lexer": "ipython2",
   "version": "2.7.10"
  }
 },
 "nbformat": 4,
 "nbformat_minor": 1
}